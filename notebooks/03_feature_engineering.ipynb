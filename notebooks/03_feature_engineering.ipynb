{
 "cells": [
  {
   "cell_type": "markdown",
   "id": "14a6f539",
   "metadata": {},
   "source": [
    "Retour quotidien : return = (close - open) / open.\n",
    "\n",
    "Volatilité quotidienne : volatility = high - low.\n",
    "\n",
    "Amplitude : amplitude = high - low (mesure de l'intervalle de fluctuation intrajournalière).\n",
    "\n",
    "Variation du prix par rapport à l'ouverture : price_change = close - open."
   ]
  },
  {
   "cell_type": "code",
   "execution_count": 215,
   "id": "22b248c6",
   "metadata": {},
   "outputs": [
    {
     "name": "stdout",
     "output_type": "stream",
     "text": [
      "                      Date      Open      High       Low     Close  Adj Close  \\\n",
      "Crypto                                                                          \n",
      "Bitcoin (BTC) 0 2025-01-01  93425.10  94929.87  92788.13  94419.76   94419.76   \n",
      "              1 2024-12-31  92643.25  96090.60  91914.03  93429.20   93429.20   \n",
      "              2 2024-12-30  93527.20  94903.32  91317.13  92643.21   92643.21   \n",
      "              3 2024-12-29  95174.05  95174.88  92881.79  93530.23   93530.23   \n",
      "              4 2024-12-28  94160.19  95525.90  94014.29  95163.93   95163.93   \n",
      "\n",
      "                       Volume         Crypto    Return  Volatility  Amplitude  \\\n",
      "Crypto                                                                          \n",
      "Bitcoin (BTC) 0  2.451989e+10  Bitcoin (BTC)  0.010647     2141.74    2141.74   \n",
      "              1  4.362511e+10  Bitcoin (BTC)  0.008484     4176.57    4176.57   \n",
      "              2  5.618800e+10  Bitcoin (BTC) -0.009452     3586.19    3586.19   \n",
      "              3  2.963589e+10  Bitcoin (BTC) -0.017272     2293.09    2293.09   \n",
      "              4  2.410744e+10  Bitcoin (BTC)  0.010660     1511.61    1511.61   \n",
      "\n",
      "                 Price_change  Volatility_ratio  High_low_spread  \n",
      "Crypto                                                            \n",
      "Bitcoin (BTC) 0        994.66          0.022925         0.022925  \n",
      "              1        785.95          0.045082         0.045082  \n",
      "              2       -883.99          0.038344         0.038344  \n",
      "              3      -1643.82          0.024094         0.024094  \n",
      "              4       1003.74          0.016054         0.016054  \n"
     ]
    },
    {
     "name": "stderr",
     "output_type": "stream",
     "text": [
      "C:\\Users\\33615\\AppData\\Local\\Temp\\ipykernel_6316\\3894535190.py:22: DeprecationWarning: DataFrameGroupBy.apply operated on the grouping columns. This behavior is deprecated, and in a future version of pandas the grouping columns will be excluded from the operation. Either pass `include_groups=False` to exclude the groupings or explicitly select the grouping columns after groupby to silence this warning.\n",
      "  merged_df = merged_df.groupby('Crypto').apply(create_performance_features)\n"
     ]
    }
   ],
   "source": [
    "# Fonction pour effectuer le feature engineering pour chaque crypto\n",
    "def create_performance_features(df):\n",
    "    # Calcul du retour quotidien\n",
    "    df['Return'] = (df['Close'] - df['Open']) / df['Open']\n",
    "\n",
    "    # Calcul de la volatilité quotidienne\n",
    "    df['Volatility'] = df['High'] - df['Low']\n",
    "\n",
    "    # Calcul de l'amplitude (similaire à la volatilité mais en tant que mesure distincte)\n",
    "    df['Amplitude'] = df['High'] - df['Low']\n",
    "\n",
    "    # Calcul de la variation du prix par rapport à l'ouverture\n",
    "    df['Price_change'] = df['Close'] - df['Open']\n",
    "\n",
    "    df['Volatility_ratio'] = df['Volatility'] / df['Open']\n",
    "\n",
    "    df['High_low_spread'] = (df['High'] - df['Low']) / df['Open']\n",
    "    \n",
    "    return df\n",
    "\n",
    "# Appliquer le feature engineering pour chaque crypto\n",
    "merged_df = merged_df.groupby('Crypto').apply(create_performance_features)\n",
    "\n",
    "# Vérification des premières lignes du dataframe avec les nouvelles variables\n",
    "print(merged_df.head())\n"
   ]
  },
  {
   "cell_type": "markdown",
   "id": "46c1fd58",
   "metadata": {},
   "source": [
    "## Indicateurs de Tendance"
   ]
  },
  {
   "cell_type": "markdown",
   "id": "97dd770b",
   "metadata": {},
   "source": [
    "### Moyenne Mobile Simple (SMA)"
   ]
  },
  {
   "cell_type": "code",
   "execution_count": 142,
   "id": "dd959df6",
   "metadata": {},
   "outputs": [],
   "source": [
    "merged_df['SMA_7'] = merged_df['Close'].rolling(window=7).mean()\n",
    "merged_df['SMA_50'] = merged_df['Close'].rolling(window=50).mean()"
   ]
  },
  {
   "cell_type": "markdown",
   "id": "a4bd42ef",
   "metadata": {},
   "source": [
    "### Moyenne Mobile Exponentielle (EMA)"
   ]
  },
  {
   "cell_type": "code",
   "execution_count": 143,
   "id": "8449a27c",
   "metadata": {},
   "outputs": [],
   "source": [
    "merged_df['EMA_10'] = merged_df['Close'].ewm(span=10).mean()\n",
    "merged_df['EMA_50'] = merged_df['Close'].ewm(span=50).mean()"
   ]
  },
  {
   "cell_type": "markdown",
   "id": "c3809dd7",
   "metadata": {},
   "source": [
    "### Rate of Change (RoC)"
   ]
  },
  {
   "cell_type": "code",
   "execution_count": 144,
   "id": "de43313e",
   "metadata": {},
   "outputs": [],
   "source": [
    "merged_df['RoC'] = (merged_df['Close'] - merged_df['Close'].shift(10)) / merged_df['Close'].shift(10) * 100"
   ]
  },
  {
   "cell_type": "markdown",
   "id": "43a2dc56",
   "metadata": {},
   "source": [
    "## Indicateurs de volatilité "
   ]
  }
 ],
 "metadata": {},
 "nbformat": 4,
 "nbformat_minor": 5
}
