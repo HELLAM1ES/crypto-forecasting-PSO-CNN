{
  "nbformat": 4,
  "nbformat_minor": 0,
  "metadata": {
    "colab": {
      "provenance": []
    },
    "kernelspec": {
      "name": "python3",
      "display_name": "Python 3"
    },
    "language_info": {
      "name": "python"
    }
  },
  "cells": [
    {
      "cell_type": "markdown",
      "source": [
        "## **Cryptocurrency Market Direction Prediction**"
      ],
      "metadata": {
        "id": "hVVdb2vdwRQ5"
      }
    },
    {
      "cell_type": "markdown",
      "source": [
        "This notebook provides a method for **predicting the market direction of cryptocurrencies** using a pre-trained machine learning model. It loads a classification model stored as a Pickle file and financial data from a CSV file. For each requested cryptocurrency, it performs a prediction based on recent market characteristics and determines whether the consolidated trend over a given period is bullish or bearish."
      ],
      "metadata": {
        "id": "MGPGDkO9wcMe"
      }
    },
    {
      "cell_type": "markdown",
      "source": [
        "## Importing packages"
      ],
      "metadata": {
        "id": "H2PkQGnkwqLl"
      }
    },
    {
      "cell_type": "code",
      "source": [
        "!pip install fastapi\n",
        "import pandas as pd\n",
        "import pickle\n",
        "from fastapi import HTTPException"
      ],
      "metadata": {
        "colab": {
          "base_uri": "https://localhost:8080/"
        },
        "id": "X11uWzrEr5Fz",
        "outputId": "b21adaa2-f741-48ee-d074-b4b7293372a0"
      },
      "execution_count": null,
      "outputs": [
        {
          "output_type": "stream",
          "name": "stdout",
          "text": [
            "Requirement already satisfied: fastapi in /usr/local/lib/python3.11/dist-packages (0.115.8)\n",
            "Requirement already satisfied: starlette<0.46.0,>=0.40.0 in /usr/local/lib/python3.11/dist-packages (from fastapi) (0.45.3)\n",
            "Requirement already satisfied: pydantic!=1.8,!=1.8.1,!=2.0.0,!=2.0.1,!=2.1.0,<3.0.0,>=1.7.4 in /usr/local/lib/python3.11/dist-packages (from fastapi) (2.10.6)\n",
            "Requirement already satisfied: typing-extensions>=4.8.0 in /usr/local/lib/python3.11/dist-packages (from fastapi) (4.12.2)\n",
            "Requirement already satisfied: annotated-types>=0.6.0 in /usr/local/lib/python3.11/dist-packages (from pydantic!=1.8,!=1.8.1,!=2.0.0,!=2.0.1,!=2.1.0,<3.0.0,>=1.7.4->fastapi) (0.7.0)\n",
            "Requirement already satisfied: pydantic-core==2.27.2 in /usr/local/lib/python3.11/dist-packages (from pydantic!=1.8,!=1.8.1,!=2.0.0,!=2.0.1,!=2.1.0,<3.0.0,>=1.7.4->fastapi) (2.27.2)\n",
            "Requirement already satisfied: anyio<5,>=3.6.2 in /usr/local/lib/python3.11/dist-packages (from starlette<0.46.0,>=0.40.0->fastapi) (3.7.1)\n",
            "Requirement already satisfied: idna>=2.8 in /usr/local/lib/python3.11/dist-packages (from anyio<5,>=3.6.2->starlette<0.46.0,>=0.40.0->fastapi) (3.10)\n",
            "Requirement already satisfied: sniffio>=1.1 in /usr/local/lib/python3.11/dist-packages (from anyio<5,>=3.6.2->starlette<0.46.0,>=0.40.0->fastapi) (1.3.1)\n"
          ]
        }
      ]
    },
    {
      "cell_type": "markdown",
      "source": [
        "## Direction prediction"
      ],
      "metadata": {
        "id": "zaM_vfqew39w"
      }
    },
    {
      "cell_type": "code",
      "source": [
        "class DirectionRequest:\n",
        "    def __init__(self, cryptos, period):\n",
        "        self.cryptos = cryptos\n",
        "        self.period = period\n",
        "\n",
        "def predict_direction(request: DirectionRequest):\n",
        "    \"\"\"\n",
        "    Prédit la direction consolidée du marché pour plusieurs cryptos sur une période spécifiée.\n",
        "    \"\"\"\n",
        "    try:\n",
        "        # Charger le modèle et les données\n",
        "        with open(\"/content/direction_model.pkl\", \"rb\") as model_file:\n",
        "            model = pickle.load(model_file)\n",
        "        df = pd.read_csv(\"/content/feature_data.csv\")\n",
        "\n",
        "        # Vérification des colonnes nécessaires\n",
        "        required_columns = {'Crypto', 'Close', 'Open', 'High', 'Low', 'Volume'}\n",
        "        if not required_columns.issubset(df.columns):\n",
        "            raise HTTPException(status_code=400, detail=\"Les données ne contiennent pas les colonnes nécessaires.\")\n",
        "\n",
        "        predictions = {}\n",
        "\n",
        "        for crypto in request.cryptos:\n",
        "            # Filtrer pour la crypto spécifiée\n",
        "            crypto_df = df[df['Crypto'] == crypto]\n",
        "            if crypto_df.empty:\n",
        "                predictions[crypto] = \"No Data\"\n",
        "                continue\n",
        "\n",
        "            # Utiliser les dernières données correspondant à la période spécifiée\n",
        "            crypto_df = crypto_df.tail(request.period)\n",
        "            if crypto_df.empty:\n",
        "                predictions[crypto] = \"Not Enough Data\"\n",
        "                continue\n",
        "\n",
        "            # Préparer les données pour la prédiction\n",
        "            features = ['Open', 'High', 'Low', 'Close', 'Volume']\n",
        "            X = crypto_df[features].values\n",
        "\n",
        "            # Faire des prédictions\n",
        "            predicted_directions = model.predict(X)\n",
        "            directions = [\"Up\" if direction == 1 else \"Down\" for direction in predicted_directions]\n",
        "\n",
        "            # Consolider la direction pour la période\n",
        "            consolidated_direction = \"Up\" if directions.count(\"Up\") > directions.count(\"Down\") else \"Down\"\n",
        "            predictions[crypto] = consolidated_direction\n",
        "\n",
        "        return {\"predictions\": predictions}\n",
        "    except Exception as e:\n",
        "        raise HTTPException(status_code=500, detail=str(e))\n"
      ],
      "metadata": {
        "colab": {
          "base_uri": "https://localhost:8080/",
          "height": 408
        },
        "id": "JZxskPOSsn7c",
        "outputId": "c4b6c628-dcf4-4cff-a9f5-0094effff354"
      },
      "execution_count": null,
      "outputs": [
        {
          "output_type": "error",
          "ename": "HTTPException",
          "evalue": "500: invalid load key, '\\x01'.",
          "traceback": [
            "\u001b[0;31m---------------------------------------------------------------------------\u001b[0m",
            "\u001b[0;31mUnpicklingError\u001b[0m                           Traceback (most recent call last)",
            "\u001b[0;32m<ipython-input-2-392532bcc6f3>\u001b[0m in \u001b[0;36mpredict_direction\u001b[0;34m(request)\u001b[0m\n\u001b[1;32m     23\u001b[0m         \u001b[0;32mwith\u001b[0m \u001b[0mopen\u001b[0m\u001b[0;34m(\u001b[0m\u001b[0;34m\"/content/direction_model.pkl\"\u001b[0m\u001b[0;34m,\u001b[0m \u001b[0;34m\"rb\"\u001b[0m\u001b[0;34m)\u001b[0m \u001b[0;32mas\u001b[0m \u001b[0mmodel_file\u001b[0m\u001b[0;34m:\u001b[0m\u001b[0;34m\u001b[0m\u001b[0;34m\u001b[0m\u001b[0m\n\u001b[0;32m---> 24\u001b[0;31m             \u001b[0mmodel\u001b[0m \u001b[0;34m=\u001b[0m \u001b[0mpickle\u001b[0m\u001b[0;34m.\u001b[0m\u001b[0mload\u001b[0m\u001b[0;34m(\u001b[0m\u001b[0mmodel_file\u001b[0m\u001b[0;34m)\u001b[0m\u001b[0;34m\u001b[0m\u001b[0;34m\u001b[0m\u001b[0m\n\u001b[0m\u001b[1;32m     25\u001b[0m         \u001b[0mdf\u001b[0m \u001b[0;34m=\u001b[0m \u001b[0mpd\u001b[0m\u001b[0;34m.\u001b[0m\u001b[0mread_csv\u001b[0m\u001b[0;34m(\u001b[0m\u001b[0;34m\"/content/feature_data.csv\"\u001b[0m\u001b[0;34m)\u001b[0m\u001b[0;34m\u001b[0m\u001b[0;34m\u001b[0m\u001b[0m\n",
            "\u001b[0;31mUnpicklingError\u001b[0m: invalid load key, '\\x01'.",
            "\nDuring handling of the above exception, another exception occurred:\n",
            "\u001b[0;31mHTTPException\u001b[0m                             Traceback (most recent call last)",
            "\u001b[0;32m<ipython-input-2-392532bcc6f3>\u001b[0m in \u001b[0;36m<cell line: 0>\u001b[0;34m()\u001b[0m\n\u001b[1;32m     63\u001b[0m \u001b[0;31m# Exemple d'utilisation\u001b[0m\u001b[0;34m\u001b[0m\u001b[0;34m\u001b[0m\u001b[0m\n\u001b[1;32m     64\u001b[0m \u001b[0mrequest_example\u001b[0m \u001b[0;34m=\u001b[0m \u001b[0mDirectionRequest\u001b[0m\u001b[0;34m(\u001b[0m\u001b[0mcryptos\u001b[0m\u001b[0;34m=\u001b[0m\u001b[0;34m[\u001b[0m\u001b[0;34m\"BTC\"\u001b[0m\u001b[0;34m,\u001b[0m \u001b[0;34m\"ETH\"\u001b[0m\u001b[0;34m]\u001b[0m\u001b[0;34m,\u001b[0m \u001b[0mperiod\u001b[0m\u001b[0;34m=\u001b[0m\u001b[0;36m7\u001b[0m\u001b[0;34m)\u001b[0m\u001b[0;34m\u001b[0m\u001b[0;34m\u001b[0m\u001b[0m\n\u001b[0;32m---> 65\u001b[0;31m \u001b[0mpredict_direction\u001b[0m\u001b[0;34m(\u001b[0m\u001b[0mrequest_example\u001b[0m\u001b[0;34m)\u001b[0m\u001b[0;34m\u001b[0m\u001b[0;34m\u001b[0m\u001b[0m\n\u001b[0m",
            "\u001b[0;32m<ipython-input-2-392532bcc6f3>\u001b[0m in \u001b[0;36mpredict_direction\u001b[0;34m(request)\u001b[0m\n\u001b[1;32m     59\u001b[0m         \u001b[0;32mreturn\u001b[0m \u001b[0;34m{\u001b[0m\u001b[0;34m\"predictions\"\u001b[0m\u001b[0;34m:\u001b[0m \u001b[0mpredictions\u001b[0m\u001b[0;34m}\u001b[0m\u001b[0;34m\u001b[0m\u001b[0;34m\u001b[0m\u001b[0m\n\u001b[1;32m     60\u001b[0m     \u001b[0;32mexcept\u001b[0m \u001b[0mException\u001b[0m \u001b[0;32mas\u001b[0m \u001b[0me\u001b[0m\u001b[0;34m:\u001b[0m\u001b[0;34m\u001b[0m\u001b[0;34m\u001b[0m\u001b[0m\n\u001b[0;32m---> 61\u001b[0;31m         \u001b[0;32mraise\u001b[0m \u001b[0mHTTPException\u001b[0m\u001b[0;34m(\u001b[0m\u001b[0mstatus_code\u001b[0m\u001b[0;34m=\u001b[0m\u001b[0;36m500\u001b[0m\u001b[0;34m,\u001b[0m \u001b[0mdetail\u001b[0m\u001b[0;34m=\u001b[0m\u001b[0mstr\u001b[0m\u001b[0;34m(\u001b[0m\u001b[0me\u001b[0m\u001b[0;34m)\u001b[0m\u001b[0;34m)\u001b[0m\u001b[0;34m\u001b[0m\u001b[0;34m\u001b[0m\u001b[0m\n\u001b[0m\u001b[1;32m     62\u001b[0m \u001b[0;34m\u001b[0m\u001b[0m\n\u001b[1;32m     63\u001b[0m \u001b[0;31m# Exemple d'utilisation\u001b[0m\u001b[0;34m\u001b[0m\u001b[0;34m\u001b[0m\u001b[0m\n",
            "\u001b[0;31mHTTPException\u001b[0m: 500: invalid load key, '\\x01'."
          ]
        }
      ]
    },
    {
      "cell_type": "markdown",
      "source": [
        "Test with all cryptocurrencies"
      ],
      "metadata": {
        "id": "pH5ogvG2xDYv"
      }
    },
    {
      "cell_type": "code",
      "source": [
        "request_example = DirectionRequest(cryptos=[\"BTC\", \"ETH\"], period=7)\n",
        "predict_direction(request_example)"
      ],
      "metadata": {
        "id": "grNOIYgxxGaT"
      },
      "execution_count": null,
      "outputs": []
    }
  ]
}