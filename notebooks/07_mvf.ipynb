{
 "cells": [
  {
   "cell_type": "markdown",
   "metadata": {},
   "source": [
    "# Maximum Variance Frontier (MVF) Calculation\n",
    "\n",
    "This function calculates the Maximum Variance Frontier (MVF) using a pre-trained model and financial data.\n",
    "It estimates expected returns, volatilities, and the Sharpe ratio for different cryptocurrencies and suggests an allocation based on the Sharpe ratio.\n"
   ]
  },
  {
   "cell_type": "code",
   "execution_count": null,
   "metadata": {},
   "outputs": [],
   "source": [
    "import pickle\n",
    "import pandas as pd\n",
    "import numpy as np\n",
    "\n",
    "def calculate_mvf():\n",
    "    try:\n",
    "        # Load the model and data\n",
    "        model = pickle.load(open(\"return_model.pkl\", \"rb\"))\n",
    "        df = pd.read_csv(\"data/processed/features_data.csv\")\n",
    "\n",
    "        # Check for required columns\n",
    "        if 'Close' not in df.columns or 'Crypto' not in df.columns:\n",
    "            raise ValueError(\"The dataset does not contain the necessary columns.\")\n",
    "\n",
    "        # Compute returns per cryptocurrency\n",
    "        df['Return'] = df.groupby('Crypto')['Close'].pct_change()\n",
    "        df = df.dropna()\n",
    "\n",
    "        features = ['Open', 'High', 'Low', 'Close', 'Volume', 'Volatility', 'Amplitude', \n",
    "                    'Price_change', 'Volatility_ratio', 'High_low_spread', 'SMA_7', 'SMA_50',\n",
    "                    'EMA_10', 'EMA_50', 'RoC', 'BB_upper', 'BB_lower', 'ATR', 'RSI', 'VWAP', 'OBV']\n",
    "\n",
    "        cryptos = df['Crypto'].unique()\n",
    "        expected_returns = {}\n",
    "        volatilities = {}\n",
    "        sharpe_ratios = {}\n",
    "\n",
    "        risk_free_rate = 0.02 / 252  # Annualized risk-free rate divided by 252 trading days\n",
    "\n",
    "        # Compute metrics for each cryptocurrency\n",
    "        for crypto in cryptos:\n",
    "            crypto_df = df[df['Crypto'] == crypto]\n",
    "            X = crypto_df[features].values  # Ensure the same features are used\n",
    "            predicted_returns = model.predict(X)\n",
    "\n",
    "            mean_return = predicted_returns.mean()\n",
    "            volatility = predicted_returns.std()\n",
    "            sharpe_ratio = (mean_return - risk_free_rate) / volatility if volatility != 0 else 0\n",
    "\n",
    "            expected_returns[crypto] = mean_return\n",
    "            volatilities[crypto] = volatility\n",
    "            sharpe_ratios[crypto] = sharpe_ratio\n",
    "\n",
    "        # Allocation based on Sharpe Ratio\n",
    "        total_sharpe = sum(sharpe_ratios.values())\n",
    "        allocation = {crypto: sharpe_ratios[crypto] / total_sharpe for crypto in cryptos} if total_sharpe != 0 else {crypto: 1/len(cryptos) for crypto in cryptos}\n",
    "\n",
    "        return {\n",
    "            \"message\": \"MVF calculation completed successfully.\",\n",
    "            \"expected_return\": np.mean(list(expected_returns.values())),\n",
    "            \"volatility\": np.mean(list(volatilities.values())),\n",
    "            \"sharpe_ratio\": np.mean(list(sharpe_ratios.values())),\n",
    "            \"allocation\": allocation\n",
    "        }\n",
    "    except Exception as e:\n",
    "        raise ValueError(f\"Error in MVF calculation: {str(e)}\")\n",
    "\n",
    "\n",
    "result = calculate_mvf()\n",
    "print(result)"
   ]
  }
 ],
 "metadata": {
  "kernelspec": {
   "display_name": "Python 3",
   "language": "python",
   "name": "python3"
  },
  "language_info": {
   "codemirror_mode": {
    "name": "ipython",
    "version": 3
   },
   "file_extension": ".py",
   "mimetype": "text/x-python",
   "name": "python",
   "nbconvert_exporter": "python",
   "pygments_lexer": "ipython3",
   "version": "3.8.5"
  }
 },
 "nbformat": 4,
 "nbformat_minor": 4
}
